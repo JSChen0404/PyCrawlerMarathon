{
 "cells": [
  {
   "cell_type": "markdown",
   "metadata": {},
   "source": [
    "# 加速：多線程爬蟲\n",
    "\n",
    "\n",
    "\n",
    "* 了解知乎 API 使用方式與回傳內容\n",
    "* 撰寫程式存取 API 且添加標頭"
   ]
  },
  {
   "cell_type": "markdown",
   "metadata": {},
   "source": [
    "## 作業目標\n",
    "\n",
    "* 找一個之前實作過的爬蟲改用多線程改寫，比較前後時間的差異。\n",
    "\n",
    "\n",
    "\n"
   ]
  },
  {
   "cell_type": "code",
   "execution_count": 2,
   "metadata": {},
   "outputs": [],
   "source": [
    "import requests\n",
    "from bs4 import BeautifulSoup\n",
    "import random\n",
    "import time"
   ]
  },
  {
   "cell_type": "markdown",
   "metadata": {},
   "source": [
    "# 正常情況的爬蟲所需時間"
   ]
  },
  {
   "cell_type": "code",
   "execution_count": 13,
   "metadata": {},
   "outputs": [
    {
     "name": "stdout",
     "output_type": "stream",
     "text": [
      "84.2265350818634\n"
     ]
    }
   ],
   "source": [
    "startTime = time.time()\n",
    "\n",
    "proxy_ips = ['51.158.99.51:8811', '51.158.111.229:8811', '206.189.235.156:80', '68.183.105.214:8080']\n",
    "for i in proxy_ips:\n",
    "    try:\n",
    "        resp = requests.get('http://ip.filefab.com/index.php', proxies={'http': ip})\n",
    "    except:\n",
    "        pass\n",
    "\n",
    "finishTime = time.time()\n",
    "print(finishTime - startTime) # 正常情況的爬蟲所需時間"
   ]
  },
  {
   "cell_type": "markdown",
   "metadata": {},
   "source": [
    "# 利用 thread 的爬蟲所需時間"
   ]
  },
  {
   "cell_type": "code",
   "execution_count": 15,
   "metadata": {},
   "outputs": [
    {
     "name": "stdout",
     "output_type": "stream",
     "text": [
      "0.0009975433349609375\n"
     ]
    }
   ],
   "source": [
    "startTime = time.time()\n",
    "\n",
    "proxy_ips = ['51.158.99.51:8811', '51.158.111.229:8811', '206.189.235.156:80', '68.183.105.214:8080']\n",
    "for i in proxy_ips:\n",
    "    try:\n",
    "        _thread.start_new_thread( requests.get('http://ip.filefab.com/index.php', proxies={'http': ip}), (url, ) )\n",
    "    except:\n",
    "        pass\n",
    "    \n",
    "finishTime = time.time()\n",
    "print(finishTime - startTime) "
   ]
  }
 ],
 "metadata": {
  "colab": {
   "name": "homework.ipynb",
   "provenance": []
  },
  "kernelspec": {
   "display_name": "Python 3 (ipykernel)",
   "language": "python",
   "name": "python3"
  },
  "language_info": {
   "codemirror_mode": {
    "name": "ipython",
    "version": 3
   },
   "file_extension": ".py",
   "mimetype": "text/x-python",
   "name": "python",
   "nbconvert_exporter": "python",
   "pygments_lexer": "ipython3",
   "version": "3.8.8"
  }
 },
 "nbformat": 4,
 "nbformat_minor": 1
}
