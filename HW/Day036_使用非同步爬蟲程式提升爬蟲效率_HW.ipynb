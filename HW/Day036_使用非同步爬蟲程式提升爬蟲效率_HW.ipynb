{
 "cells": [
  {
   "cell_type": "markdown",
   "metadata": {},
   "source": [
    "# 加速：非同步爬蟲\n",
    "\n",
    "* 了解非同步爬蟲加速原理與實作"
   ]
  },
  {
   "cell_type": "markdown",
   "metadata": {},
   "source": [
    "## 作業目標\n",
    "\n",
    "* 比較一下非同步爬蟲跟多線程爬蟲的差異是什麼？各自的優缺點為何？"
   ]
  },
  {
   "cell_type": "code",
   "execution_count": 1,
   "metadata": {
    "scrolled": true
   },
   "outputs": [
    {
     "data": {
      "text/plain": [
       "'\\nYour Input\\n'"
      ]
     },
     "execution_count": 1,
     "metadata": {},
     "output_type": "execute_result"
    }
   ],
   "source": [
    "# 非同步爬蟲是單線程，指一個工作還沒結束之前就開始做另一個工作。一種比喻是指讓一個工人更有效率的完成工作。\n",
    "    # 優點：達到同時處理多個任務，提升執行效率\n",
    "    # 缺點：語法複雜，無法充分利用多個cpu的優勢，也就是效率優化不會因多core而有差異。\n",
    "\n",
    "# 多線程是多線程，指同時間讓多個工作開始做。效率取決於你用幾個線程。一種比喻是指讓多個工人來完成多個工作。\n",
    "    # 優點：效率提高。\n",
    "    # 缺點：效率取決於你調動多少線程，多線程需要更多的內存。系統需要轉換。程序設計上容易出錯（線程同步問題）。"
   ]
  }
 ],
 "metadata": {
  "colab": {
   "name": "homework.ipynb",
   "provenance": []
  },
  "kernelspec": {
   "display_name": "Python 3",
   "language": "python",
   "name": "python3"
  },
  "language_info": {
   "codemirror_mode": {
    "name": "ipython",
    "version": 3
   },
   "file_extension": ".py",
   "mimetype": "text/x-python",
   "name": "python",
   "nbconvert_exporter": "python",
   "pygments_lexer": "ipython3",
   "version": "3.8.8"
  }
 },
 "nbformat": 4,
 "nbformat_minor": 1
}
