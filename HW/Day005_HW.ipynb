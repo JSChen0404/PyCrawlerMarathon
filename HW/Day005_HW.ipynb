{
 "cells": [
  {
   "cell_type": "markdown",
   "metadata": {},
   "source": [
    "# API 資料串接 - 以 Dcard API 實作範例\n",
    "\n",
    "* 了解 Dcard API 使用方式與回傳內容\n",
    "* 撰寫程式存取 API 且解析 JSON 格式資料\n"
   ]
  },
  {
   "cell_type": "markdown",
   "metadata": {},
   "source": [
    "## 作業目標\n",
    "\n",
    "* 請利用 API: https://www.dcard.tw/_api/forums/pet/posts?popular=true 回答下列問題：\n",
    "\n",
    "1. 這個 API 一次會回傳幾筆資料？每一筆資料包含哪些欄位？\n",
    "2. 取出每一筆資料的「標題」、「貼文時間」、「留言人數」、「按讚人數」\n",
    "3. 計算熱門/非熱門文章的「平均留言人數」與「平均按讚人數」"
   ]
  },
  {
   "cell_type": "code",
   "execution_count": 16,
   "metadata": {},
   "outputs": [
    {
     "name": "stdout",
     "output_type": "stream",
     "text": [
      "總共 30 筆資料\n",
      "包含哪些欄位\n",
      "id\n",
      "title\n",
      "excerpt\n",
      "anonymousSchool\n",
      "anonymousDepartment\n",
      "pinned\n",
      "forumId\n",
      "replyId\n",
      "createdAt\n",
      "updatedAt\n",
      "commentCount\n",
      "likeCount\n",
      "withNickname\n",
      "tags\n",
      "topics\n",
      "meta\n",
      "forumName\n",
      "forumAlias\n",
      "nsfw\n",
      "gender\n",
      "school\n",
      "department\n",
      "replyTitle\n",
      "mediaMeta\n",
      "reactions\n",
      "hidden\n",
      "customStyle\n",
      "isSuspiciousAccount\n",
      "isModerator\n",
      "layout\n",
      "spoilerAlert\n",
      "isSelectedPost\n",
      "unsafe\n",
      "enablePrivateMessage\n",
      "enableNestedComment\n",
      "totalCommentCount\n",
      "withImages\n",
      "withVideos\n",
      "media\n",
      "reportReasonText\n",
      "supportedReactions\n",
      "excerptComments\n",
      "edited\n",
      "collectionCount\n",
      "postAvatar\n",
      "activityAvatar\n",
      "verifiedBadge\n",
      "memberType\n"
     ]
    }
   ],
   "source": [
    "# 1. 這個 API 一次會回傳幾筆資料？每一筆資料包含哪些欄位？\n",
    "\n",
    "import requests\n",
    "r = requests.get('https://www.dcard.tw/_api/forums/pet/posts?popular=true')\n",
    "response = r.text\n",
    "\n",
    "print('總共',len(r.json()),'筆資料')\n",
    "print('包含以下欄位')\n",
    "for x in r.json()[0]:\n",
    "    print(x)"
   ]
  },
  {
   "cell_type": "code",
   "execution_count": 20,
   "metadata": {},
   "outputs": [
    {
     "name": "stdout",
     "output_type": "stream",
     "text": [
      "標題: 才短短幾天就被爸爸養到像懷孕！ /貼文時間: 2022-02-06T10:39:55.001Z /留言人數: 45 / 按讚人數: 2050\n",
      "標題: 開箱像家貓的盲盒 /貼文時間: 2022-02-06T08:11:18.742Z /留言人數: 15 / 按讚人數: 587\n",
      "標題: 結紮後臉變小了，但變快樂了 /貼文時間: 2022-02-07T03:14:18.215Z /留言人數: 11 / 按讚人數: 297\n",
      "標題: 貓貓真的有夠療癒ϵ( 'Θ' )϶（小更新） /貼文時間: 2022-02-06T12:34:08.846Z /留言人數: 6 / 按讚人數: 239\n",
      "標題: 抬頭就會微笑的貓咪 /貼文時間: 2022-02-06T04:04:43.861Z /留言人數: 3 / 按讚人數: 167\n",
      "標題: 還來不及… /貼文時間: 2022-02-07T03:00:51.526Z /留言人數: 9 / 按讚人數: 104\n",
      "標題: 貓咪耳朵 /貼文時間: 2022-02-06T04:10:54.565Z /留言人數: 19 / 按讚人數: 102\n",
      "標題: 外面遛進來的小野貓 /貼文時間: 2022-02-06T14:14:24.970Z /留言人數: 3 / 按讚人數: 76\n",
      "標題: 只能心甘情願被詐騙了(?) /貼文時間: 2022-02-06T12:32:21.764Z /留言人數: 6 / 按讚人數: 74\n",
      "標題: 圓臉貓咪 /貼文時間: 2022-02-06T14:26:18.179Z /留言人數: 26 / 按讚人數: 69\n",
      "標題: 後空翻的🐯 /貼文時間: 2022-02-06T16:07:34.440Z /留言人數: 6 / 按讚人數: 56\n",
      "標題: 可愛「柴犬」也聽 Lady Gaga 😂 /貼文時間: 2022-02-06T23:22:36.226Z /留言人數: 0 / 按讚人數: 45\n",
      "標題: 硬要睡一起 /貼文時間: 2022-02-06T18:38:02.221Z /留言人數: 4 / 按讚人數: 40\n",
      "標題: 讓我上床睡‼️不然我就一直這樣 /貼文時間: 2022-02-07T06:55:39.816Z /留言人數: 4 / 按讚人數: 39\n",
      "標題: 孩子你越來越崩壞了😂 /貼文時間: 2022-02-07T08:35:47.693Z /留言人數: 1 / 按讚人數: 26\n",
      "標題: 我家的貓咪也會後空翻(⁎⁍̴̛ᴗ⁍̴̛⁎) /貼文時間: 2022-02-06T05:26:48.254Z /留言人數: 0 / 按讚人數: 23\n",
      "標題: 浪浪成群衝馬路！重機騎士剎車不及　「小黑」慘遭路殺 /貼文時間: 2022-02-07T06:02:40.077Z /留言人數: 6 / 按讚人數: 21\n",
      "標題: 開工第一天，一睜眼就這景象 是要萌幾點的！😍😍😍 /貼文時間: 2022-02-07T03:00:04.527Z /留言人數: 0 / 按讚人數: 20\n",
      "標題: 問貓咪耳朵 /貼文時間: 2022-02-06T11:40:11.509Z /留言人數: 3 / 按讚人數: 19\n",
      "標題: 撿到黑貴賓 /貼文時間: 2022-02-06T11:04:23.867Z /留言人數: 0 / 按讚人數: 19\n",
      "標題: 買了窩不睡只喜歡睡箱子🙄️ /貼文時間: 2022-02-07T03:35:10.047Z /留言人數: 1 / 按讚人數: 18\n",
      "標題: 求教學怎麼照顧小兔兔‼️ /貼文時間: 2022-02-06T05:07:00.038Z /留言人數: 5 / 按讚人數: 16\n",
      "標題: 餛飩的弟弟湯圓 /貼文時間: 2022-02-06T02:48:01.872Z /留言人數: 5 / 按讚人數: 15\n",
      "標題: 徵求各位的厭世貓貓照 /貼文時間: 2022-02-07T06:09:39.524Z /留言人數: 18 / 按讚人數: 14\n",
      "標題: 原來養了小老虎啊，還以為是貓咪呢 /貼文時間: 2022-02-07T12:12:55.498Z /留言人數: 2 / 按讚人數: 12\n",
      "標題: 高雄新樂街市集賣蛇、蜜袋鼯、兔子的攤位 /貼文時間: 2022-02-06T03:35:45.819Z /留言人數: 3 / 按讚人數: 10\n",
      "標題: 只是想曬貓 /貼文時間: 2022-02-06T18:32:21.363Z /留言人數: 0 / 按讚人數: 9\n",
      "標題: 紅包錢都變脂肪了🧨 /貼文時間: 2022-02-06T11:14:12.039Z /留言人數: 0 / 按讚人數: 9\n",
      "標題: 是翻跟斗！ /貼文時間: 2022-02-06T21:31:21.568Z /留言人數: 1 / 按讚人數: 8\n",
      "標題: 你是有什麼不滿 /貼文時間: 2022-02-07T10:39:31.585Z /留言人數: 0 / 按讚人數: 6\n"
     ]
    }
   ],
   "source": [
    "# 2. 取出每一筆資料的「標題」、「貼文時間」、「留言人數」、「按讚人數」\n",
    "\n",
    "for data in r.json():\n",
    "    print('標題:',data['title'],'/貼文時間:',data['createdAt'],'/留言人數:',data['commentCount'],'/ 按讚人數:',data['likeCount'])"
   ]
  },
  {
   "cell_type": "code",
   "execution_count": 24,
   "metadata": {},
   "outputs": [
    {
     "name": "stdout",
     "output_type": "stream",
     "text": [
      "熱門文章\n",
      "平均留言人數: 6.833333333333333\n",
      "平均按讚人數: 142.1 \n",
      "\n",
      "非熱門文章\n",
      "平均留言人數: 1.2\n",
      "平均按讚人數: 4.433333333333334\n"
     ]
    }
   ],
   "source": [
    "# 3. 計算熱門/非熱門文章的「平均留言人數」與「平均按讚人數」\n",
    "\n",
    "pop = requests.get('https://www.dcard.tw/_api/forums/pet/posts?popular=true').json()\n",
    "unpop = requests.get('https://www.dcard.tw/_api/forums/pet/posts?popular=false').json()\n",
    "\n",
    "sum_comment = 0\n",
    "sum_like = 0\n",
    "count = 0\n",
    "for data in pop:\n",
    "    sum_comment = sum_comment + data['commentCount']\n",
    "    sum_like = sum_like + data['likeCount']\n",
    "    count = count + 1\n",
    "print('熱門文章')\n",
    "print('平均留言人數:',sum_comment/count)\n",
    "print('平均按讚人數:',sum_like/count,'\\n')\n",
    "\n",
    "sum_comment = 0\n",
    "sum_like = 0\n",
    "count = 0\n",
    "for data in unpop:\n",
    "    sum_comment = sum_comment + data['commentCount']\n",
    "    sum_like = sum_like + data['likeCount']\n",
    "    count = count + 1\n",
    "print('非熱門文章')\n",
    "print('平均留言人數:',sum_comment/count)\n",
    "print('平均按讚人數:',sum_like/count)"
   ]
  }
 ],
 "metadata": {
  "kernelspec": {
   "display_name": "Python 3 (ipykernel)",
   "language": "python",
   "name": "python3"
  },
  "language_info": {
   "codemirror_mode": {
    "name": "ipython",
    "version": 3
   },
   "file_extension": ".py",
   "mimetype": "text/x-python",
   "name": "python",
   "nbconvert_exporter": "python",
   "pygments_lexer": "ipython3",
   "version": "3.8.8"
  }
 },
 "nbformat": 4,
 "nbformat_minor": 2
}
